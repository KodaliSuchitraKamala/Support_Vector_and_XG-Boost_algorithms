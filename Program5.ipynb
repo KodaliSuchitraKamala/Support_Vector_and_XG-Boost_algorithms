{
  "nbformat": 4,
  "nbformat_minor": 0,
  "metadata": {
    "colab": {
      "provenance": [],
      "authorship_tag": "ABX9TyMhkGHc1qj9zUpkgZaqI4A2",
      "include_colab_link": true
    },
    "kernelspec": {
      "name": "python3",
      "display_name": "Python 3"
    },
    "language_info": {
      "name": "python"
    }
  },
  "cells": [
    {
      "cell_type": "markdown",
      "metadata": {
        "id": "view-in-github",
        "colab_type": "text"
      },
      "source": [
        "<a href=\"https://colab.research.google.com/github/KodaliSuchitraKamala/Support_Vector_and_XG-Boost_algorithms/blob/main/Program5.ipynb\" target=\"_parent\"><img src=\"https://colab.research.google.com/assets/colab-badge.svg\" alt=\"Open In Colab\"/></a>"
      ]
    },
    {
      "cell_type": "code",
      "execution_count": 1,
      "metadata": {
        "id": "Qub2wDB_dC3b"
      },
      "outputs": [],
      "source": [
        "!pip install xgboost scikit-learn --quiet"
      ]
    },
    {
      "cell_type": "code",
      "source": [
        "from sklearn.datasets import load_iris, load_breast_cancer\n",
        "from sklearn.model_selection import train_test_split\n",
        "from sklearn.preprocessing import StandardScaler\n",
        "from sklearn.svm import SVC\n",
        "from xgboost import XGBClassifier\n",
        "from sklearn.metrics import classification_report"
      ],
      "metadata": {
        "id": "67vubv04dO5s"
      },
      "execution_count": 2,
      "outputs": []
    },
    {
      "cell_type": "code",
      "source": [
        "iris = load_iris()\n",
        "cancer = load_breast_cancer()"
      ],
      "metadata": {
        "id": "QD_UWRFXdRlD"
      },
      "execution_count": 3,
      "outputs": []
    },
    {
      "cell_type": "code",
      "source": [
        "X_iris_train, X_iris_test, y_iris_train, y_iris_test = train_test_split(iris.data, iris.target, test_size=0.2, random_state=42)"
      ],
      "metadata": {
        "id": "PCoupZIndTpz"
      },
      "execution_count": 4,
      "outputs": []
    },
    {
      "cell_type": "code",
      "source": [
        "X_cancer_train, X_cancer_test, y_cancer_train, y_cancer_test = train_test_split(cancer.data, cancer.target, test_size=0.2, random_state=42)"
      ],
      "metadata": {
        "id": "Wa6y3HELdWnb"
      },
      "execution_count": 5,
      "outputs": []
    },
    {
      "cell_type": "code",
      "source": [
        "scaler = StandardScaler()\n",
        "X_iris_train = scaler.fit_transform(X_iris_train)\n",
        "X_iris_test = scaler.transform(X_iris_test)\n",
        "X_cancer_train = scaler.fit_transform(X_cancer_train)\n",
        "X_cancer_test = scaler.transform(X_cancer_test)"
      ],
      "metadata": {
        "id": "gFfAKakPdcoL"
      },
      "execution_count": 6,
      "outputs": []
    },
    {
      "cell_type": "code",
      "source": [
        "print(\"=== Support Vector Machine (SVM) ===\")"
      ],
      "metadata": {
        "colab": {
          "base_uri": "https://localhost:8080/"
        },
        "id": "D0zHayYAdf_b",
        "outputId": "4b92e4b3-58df-4e2a-94ec-bce3e2ca94b3"
      },
      "execution_count": 7,
      "outputs": [
        {
          "output_type": "stream",
          "name": "stdout",
          "text": [
            "=== Support Vector Machine (SVM) ===\n"
          ]
        }
      ]
    },
    {
      "cell_type": "code",
      "source": [
        "svm_iris = SVC(kernel=\"linear\")\n",
        "svm_iris.fit(X_iris_train, y_iris_train)\n",
        "iris_preds = svm_iris.predict(X_iris_test)\n",
        "print(\"SVM - Iris Dataset\")\n",
        "print(classification_report(y_iris_test, iris_preds))"
      ],
      "metadata": {
        "colab": {
          "base_uri": "https://localhost:8080/"
        },
        "id": "ay494xgAdjj7",
        "outputId": "88810c54-a7fb-4ac2-cbb5-2448eb3b1c47"
      },
      "execution_count": 8,
      "outputs": [
        {
          "output_type": "stream",
          "name": "stdout",
          "text": [
            "SVM - Iris Dataset\n",
            "              precision    recall  f1-score   support\n",
            "\n",
            "           0       1.00      1.00      1.00        10\n",
            "           1       1.00      0.89      0.94         9\n",
            "           2       0.92      1.00      0.96        11\n",
            "\n",
            "    accuracy                           0.97        30\n",
            "   macro avg       0.97      0.96      0.97        30\n",
            "weighted avg       0.97      0.97      0.97        30\n",
            "\n"
          ]
        }
      ]
    },
    {
      "cell_type": "code",
      "source": [
        "svm_cancer = SVC(kernel=\"linear\")\n",
        "svm_cancer.fit(X_cancer_train, y_cancer_train)\n",
        "cancer_preds = svm_cancer.predict(X_cancer_test)\n",
        "print(\"SVM - Breast Cancer Dataset\")\n",
        "print(classification_report(y_cancer_test, cancer_preds))"
      ],
      "metadata": {
        "colab": {
          "base_uri": "https://localhost:8080/"
        },
        "id": "vyRm2HWkdxg7",
        "outputId": "e370af73-e59e-4297-caee-f604f2e1b550"
      },
      "execution_count": 9,
      "outputs": [
        {
          "output_type": "stream",
          "name": "stdout",
          "text": [
            "SVM - Breast Cancer Dataset\n",
            "              precision    recall  f1-score   support\n",
            "\n",
            "           0       0.93      0.95      0.94        43\n",
            "           1       0.97      0.96      0.96        71\n",
            "\n",
            "    accuracy                           0.96       114\n",
            "   macro avg       0.95      0.96      0.95       114\n",
            "weighted avg       0.96      0.96      0.96       114\n",
            "\n"
          ]
        }
      ]
    },
    {
      "cell_type": "code",
      "source": [
        "print(\"\\n=== XGBoost Classifier ===\")"
      ],
      "metadata": {
        "colab": {
          "base_uri": "https://localhost:8080/"
        },
        "id": "ifndoFGFeIa7",
        "outputId": "3de38bd3-7837-49bd-ec03-4784dcea4634"
      },
      "execution_count": 10,
      "outputs": [
        {
          "output_type": "stream",
          "name": "stdout",
          "text": [
            "\n",
            "=== XGBoost Classifier ===\n"
          ]
        }
      ]
    },
    {
      "cell_type": "code",
      "source": [
        "xgb_iris = XGBClassifier(use_label_encoder=False, eval_metric=\"mlogloss\")\n",
        "xgb_iris.fit(X_iris_train, y_iris_train)\n",
        "xgb_iris_preds = xgb_iris.predict(X_iris_test)\n",
        "print(\"XGBoost - Iris Dataset\")\n",
        "print(classification_report(y_iris_test, xgb_iris_preds))"
      ],
      "metadata": {
        "colab": {
          "base_uri": "https://localhost:8080/"
        },
        "id": "aBdGeLE-eSJL",
        "outputId": "8dd4580f-9b56-4f85-cf5c-8b18b990f34e"
      },
      "execution_count": 11,
      "outputs": [
        {
          "output_type": "stream",
          "name": "stdout",
          "text": [
            "XGBoost - Iris Dataset\n",
            "              precision    recall  f1-score   support\n",
            "\n",
            "           0       1.00      1.00      1.00        10\n",
            "           1       1.00      1.00      1.00         9\n",
            "           2       1.00      1.00      1.00        11\n",
            "\n",
            "    accuracy                           1.00        30\n",
            "   macro avg       1.00      1.00      1.00        30\n",
            "weighted avg       1.00      1.00      1.00        30\n",
            "\n"
          ]
        },
        {
          "output_type": "stream",
          "name": "stderr",
          "text": [
            "/usr/local/lib/python3.11/dist-packages/xgboost/core.py:158: UserWarning: [06:17:57] WARNING: /workspace/src/learner.cc:740: \n",
            "Parameters: { \"use_label_encoder\" } are not used.\n",
            "\n",
            "  warnings.warn(smsg, UserWarning)\n"
          ]
        }
      ]
    },
    {
      "cell_type": "code",
      "source": [
        "xgb_cancer = XGBClassifier(use_label_encoder=False, eval_metric=\"logloss\")\n",
        "xgb_cancer.fit(X_cancer_train, y_cancer_train)\n",
        "xgb_cancer_preds = xgb_cancer.predict(X_cancer_test)\n",
        "print(\"XGBoost - Breast Cancer Dataset\")\n",
        "print(classification_report(y_cancer_test, xgb_cancer_preds))"
      ],
      "metadata": {
        "colab": {
          "base_uri": "https://localhost:8080/"
        },
        "id": "zhnezEZxebQE",
        "outputId": "a53a7b57-61dd-44a5-9957-e731df10dc61"
      },
      "execution_count": 12,
      "outputs": [
        {
          "output_type": "stream",
          "name": "stderr",
          "text": [
            "/usr/local/lib/python3.11/dist-packages/xgboost/core.py:158: UserWarning: [06:17:57] WARNING: /workspace/src/learner.cc:740: \n",
            "Parameters: { \"use_label_encoder\" } are not used.\n",
            "\n",
            "  warnings.warn(smsg, UserWarning)\n"
          ]
        },
        {
          "output_type": "stream",
          "name": "stdout",
          "text": [
            "XGBoost - Breast Cancer Dataset\n",
            "              precision    recall  f1-score   support\n",
            "\n",
            "           0       0.95      0.93      0.94        43\n",
            "           1       0.96      0.97      0.97        71\n",
            "\n",
            "    accuracy                           0.96       114\n",
            "   macro avg       0.96      0.95      0.95       114\n",
            "weighted avg       0.96      0.96      0.96       114\n",
            "\n"
          ]
        }
      ]
    },
    {
      "cell_type": "code",
      "source": [],
      "metadata": {
        "id": "lRomtIsZejjb"
      },
      "execution_count": 12,
      "outputs": []
    }
  ]
}